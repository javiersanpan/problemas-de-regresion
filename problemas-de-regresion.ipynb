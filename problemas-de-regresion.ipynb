{
 "cells": [
  {
   "cell_type": "markdown",
   "id": "e47ed510-875e-499c-8653-5f26e7f54264",
   "metadata": {},
   "source": [
    "# Problemas de regresión\n",
    "Francisco Javier Sánchez Panduro\n",
    "A01639832"
   ]
  },
  {
   "cell_type": "code",
   "execution_count": 23,
   "id": "d95f805a-7121-46ca-b380-1a24e33ad719",
   "metadata": {
    "tags": []
   },
   "outputs": [],
   "source": [
    "import pandas as pd\n",
    "import matplotlib.pyplot as plt\n",
    "import numpy as np\n",
    "from sklearn.model_selection import KFold\n",
    "from sklearn.metrics import mean_squared_error, mean_absolute_error, r2_score\n",
    "from sklearn.model_selection import train_test_split"
   ]
  },
  {
   "cell_type": "code",
   "execution_count": 4,
   "id": "4ff6cf8b-ba8b-4610-a431-86dab8c7a173",
   "metadata": {
    "tags": []
   },
   "outputs": [
    {
     "data": {
      "text/html": [
       "<div>\n",
       "<style scoped>\n",
       "    .dataframe tbody tr th:only-of-type {\n",
       "        vertical-align: middle;\n",
       "    }\n",
       "\n",
       "    .dataframe tbody tr th {\n",
       "        vertical-align: top;\n",
       "    }\n",
       "\n",
       "    .dataframe thead th {\n",
       "        text-align: right;\n",
       "    }\n",
       "</style>\n",
       "<table border=\"1\" class=\"dataframe\">\n",
       "  <thead>\n",
       "    <tr style=\"text-align: right;\">\n",
       "      <th></th>\n",
       "      <th>State</th>\n",
       "      <th>VR</th>\n",
       "      <th>MR</th>\n",
       "      <th>M</th>\n",
       "      <th>W</th>\n",
       "      <th>H</th>\n",
       "      <th>P</th>\n",
       "      <th>S</th>\n",
       "    </tr>\n",
       "  </thead>\n",
       "  <tbody>\n",
       "    <tr>\n",
       "      <th>0</th>\n",
       "      <td>AK</td>\n",
       "      <td>761</td>\n",
       "      <td>9.0</td>\n",
       "      <td>41.8</td>\n",
       "      <td>75.2</td>\n",
       "      <td>86.6</td>\n",
       "      <td>9.1</td>\n",
       "      <td>14.3</td>\n",
       "    </tr>\n",
       "    <tr>\n",
       "      <th>1</th>\n",
       "      <td>AL</td>\n",
       "      <td>780</td>\n",
       "      <td>11.6</td>\n",
       "      <td>67.4</td>\n",
       "      <td>73.5</td>\n",
       "      <td>66.9</td>\n",
       "      <td>17.4</td>\n",
       "      <td>11.5</td>\n",
       "    </tr>\n",
       "    <tr>\n",
       "      <th>2</th>\n",
       "      <td>AR</td>\n",
       "      <td>593</td>\n",
       "      <td>10.2</td>\n",
       "      <td>44.7</td>\n",
       "      <td>82.9</td>\n",
       "      <td>66.3</td>\n",
       "      <td>20.0</td>\n",
       "      <td>10.7</td>\n",
       "    </tr>\n",
       "    <tr>\n",
       "      <th>3</th>\n",
       "      <td>AZ</td>\n",
       "      <td>715</td>\n",
       "      <td>8.6</td>\n",
       "      <td>84.7</td>\n",
       "      <td>88.6</td>\n",
       "      <td>78.7</td>\n",
       "      <td>15.4</td>\n",
       "      <td>12.1</td>\n",
       "    </tr>\n",
       "    <tr>\n",
       "      <th>4</th>\n",
       "      <td>CA</td>\n",
       "      <td>1078</td>\n",
       "      <td>13.1</td>\n",
       "      <td>96.7</td>\n",
       "      <td>79.3</td>\n",
       "      <td>76.2</td>\n",
       "      <td>18.2</td>\n",
       "      <td>12.5</td>\n",
       "    </tr>\n",
       "  </tbody>\n",
       "</table>\n",
       "</div>"
      ],
      "text/plain": [
       "  State    VR    MR     M     W     H     P     S\n",
       "0    AK   761   9.0  41.8  75.2  86.6   9.1  14.3\n",
       "1    AL   780  11.6  67.4  73.5  66.9  17.4  11.5\n",
       "2    AR   593  10.2  44.7  82.9  66.3  20.0  10.7\n",
       "3    AZ   715   8.6  84.7  88.6  78.7  15.4  12.1\n",
       "4    CA  1078  13.1  96.7  79.3  76.2  18.2  12.5"
      ]
     },
     "execution_count": 4,
     "metadata": {},
     "output_type": "execute_result"
    }
   ],
   "source": [
    "df = pd.read_csv('./crime_data.csv')\n",
    "df.head()"
   ]
  },
  {
   "cell_type": "code",
   "execution_count": 27,
   "id": "236bb216-ccad-4708-b6fc-12eda5eec479",
   "metadata": {
    "tags": []
   },
   "outputs": [
    {
     "data": {
      "text/plain": [
       "0"
      ]
     },
     "execution_count": 27,
     "metadata": {},
     "output_type": "execute_result"
    }
   ],
   "source": [
    "df.isna().any(axis=1).sum()"
   ]
  },
  {
   "cell_type": "markdown",
   "id": "ae74e631-6d08-41f5-993d-0146755e0901",
   "metadata": {},
   "source": [
    "Variable dependiente VR\n",
    "Variables independientes M W S P"
   ]
  },
  {
   "cell_type": "markdown",
   "id": "f9e8f579-4a78-44e3-9add-e81ec552c76e",
   "metadata": {},
   "source": [
    "## Graficar variables dependientes vs variables independientes"
   ]
  },
  {
   "cell_type": "code",
   "execution_count": 8,
   "id": "90458d12-a2a6-4440-a0e0-a9ca16c6664b",
   "metadata": {
    "tags": []
   },
   "outputs": [
    {
     "data": {
      "text/plain": [
       "<matplotlib.collections.PathCollection at 0x117681f50>"
      ]
     },
     "execution_count": 8,
     "metadata": {},
     "output_type": "execute_result"
    },
    {
     "data": {
      "image/png": "[encoded data removed]",
      "text/plain": [
       "<Figure size 640x480 with 1 Axes>"
      ]
     },
     "metadata": {},
     "output_type": "display_data"
    }
   ],
   "source": [
    "plt.scatter(df['VR'], df['M'])"
   ]
  },
  {
   "cell_type": "code",
   "execution_count": 9,
   "id": "4796bf52-757e-448d-b586-6ccbc79a2b37",
   "metadata": {
    "tags": []
   },
   "outputs": [
    {
     "data": {
      "text/plain": [
       "<matplotlib.collections.PathCollection at 0x1178fbe90>"
      ]
     },
     "execution_count": 9,
     "metadata": {},
     "output_type": "execute_result"
    },
    {
     "data": {
      "image/png": "[encoded data removed]",
      "text/plain": [
       "<Figure size 640x480 with 1 Axes>"
      ]
     },
     "metadata": {},
     "output_type": "display_data"
    }
   ],
   "source": [
    "plt.scatter(df['VR'], df['W'])"
   ]
  },
  {
   "cell_type": "code",
   "execution_count": 10,
   "id": "5e39886d-2df5-41a5-863f-1d40c1159d4b",
   "metadata": {
    "tags": []
   },
   "outputs": [
    {
     "data": {
      "text/plain": [
       "<matplotlib.collections.PathCollection at 0x117910150>"
      ]
     },
     "execution_count": 10,
     "metadata": {},
     "output_type": "execute_result"
    },
    {
     "data": {
      "image/png": "[encoded data removed]",
      "text/plain": [
       "<Figure size 640x480 with 1 Axes>"
      ]
     },
     "metadata": {},
     "output_type": "display_data"
    }
   ],
   "source": [
    "plt.scatter(df['VR'], df['S'])"
   ]
  },
  {
   "cell_type": "code",
   "execution_count": 11,
   "id": "6fa89bf7-fefa-4a88-a2bd-b39e8f8cb2f7",
   "metadata": {
    "tags": []
   },
   "outputs": [
    {
     "data": {
      "text/plain": [
       "<matplotlib.collections.PathCollection at 0x1179dacd0>"
      ]
     },
     "execution_count": 11,
     "metadata": {},
     "output_type": "execute_result"
    },
    {
     "data": {
      "image/png": "[encoded data removed]",
      "text/plain": [
       "<Figure size 640x480 with 1 Axes>"
      ]
     },
     "metadata": {},
     "output_type": "display_data"
    }
   ],
   "source": [
    "plt.scatter(df['VR'], df['P'])"
   ]
  },
  {
   "cell_type": "markdown",
   "id": "1b36c73c-3ec2-4453-9109-b56b57557aff",
   "metadata": {},
   "source": [
    "## Implementar formula directa para calcular los coeficientes de un modelo de regresión lineal"
   ]
  },
  {
   "cell_type": "code",
   "execution_count": 19,
   "id": "736a874d-6d14-4328-b3f2-5f6ed1f3ce53",
   "metadata": {
    "tags": []
   },
   "outputs": [
    {
     "name": "stdout",
     "output_type": "stream",
     "text": [
      "[-1191.97437358     7.40434509    -3.50723304   120.35842821\n",
      "    16.67071979]\n"
     ]
    }
   ],
   "source": [
    "x = np.column_stack([np.ones(len(df)), df['M'], df['W'], df['S'], df['P']])\n",
    "y = df['VR'].values\n",
    "\n",
    "beta = np.linalg.inv(x.T @ x) @ x.T @ y\n",
    "print(beta)"
   ]
  },
  {
   "cell_type": "code",
   "execution_count": 15,
   "id": "421ea385-04c1-4f10-a2da-8a1d561c1b46",
   "metadata": {
    "tags": []
   },
   "outputs": [
    {
     "name": "stdout",
     "output_type": "stream",
     "text": [
      "Formula: -1191.97437357824 + 7.404345085770844 M + -3.50723304247519 W + 120.35842821187339 S + 16.67071978509876 P\n"
     ]
    }
   ],
   "source": [
    "print(f'Formula: {beta[0]} + {beta[1]} M + {beta[2]} W + {beta[3]} S + {beta[4]} P')"
   ]
  },
  {
   "cell_type": "markdown",
   "id": "bcfa1c85-7109-425d-b6dd-c74ed2b5d49e",
   "metadata": {},
   "source": [
    "## Evalua con validación cruzada de k-plieges tu modelo calculando R2, MSE y MAE"
   ]
  },
  {
   "cell_type": "code",
   "execution_count": 22,
   "id": "f9b53188-b8d9-45ea-9135-f4614903e6df",
   "metadata": {
    "tags": []
   },
   "outputs": [
    {
     "name": "stdout",
     "output_type": "stream",
     "text": [
      "MSE promedio: 47206.85143352217\n",
      "MAE promedio: 157.12592827075463\n",
      "R^2 promedio: 0.5228131043236599\n"
     ]
    }
   ],
   "source": [
    "n_folds = 5\n",
    "kf = KFold(n_splits=n_folds, shuffle=True)\n",
    "\n",
    "mse_cv = []\n",
    "mae_cv = []\n",
    "r2_cv = []\n",
    "\n",
    "def predict(x, beta):\n",
    "    return x @ beta\n",
    "\n",
    "def fit_model(x, y):\n",
    "    return np.linalg.inv(x.transpose() @ x) @ x.transpose() @ y    \n",
    "\n",
    "for train_index, test_index in kf.split(x):\n",
    "    x_train, x_test = x[train_index], x[test_index]\n",
    "    y_train, y_test = y[train_index], y[test_index]\n",
    "    \n",
    "    beta_cv = fit_model(x_train, y_train)\n",
    "    \n",
    "    y_pred = predict(x_test, beta_cv)\n",
    "\n",
    "    mse_i = mean_squared_error(y_test, y_pred)\n",
    "    mae_i = mean_absolute_error(y_test, y_pred)\n",
    "    r2_i = r2_score(y_test, y_pred)\n",
    "    \n",
    "    mse_cv.append(mse_i)\n",
    "    mae_cv.append(mae_i)\n",
    "    r2_cv.append(r2_i)\n",
    "\n",
    "print(f'MSE promedio: {np.mean(mse_cv)}')\n",
    "print(f'MAE promedio: {np.mean(mae_cv)}')\n",
    "print(f'R^2 promedio: {np.mean(r2_cv)}')"
   ]
  },
  {
   "cell_type": "markdown",
   "id": "033f0f27-d68e-4156-9689-9e312f649a08",
   "metadata": {},
   "source": [
    "## Metodo de validación cruzada con Monte Carlo"
   ]
  },
  {
   "cell_type": "code",
   "execution_count": 25,
   "id": "04c10923-65d4-4d2b-9142-bcbd24336491",
   "metadata": {
    "tags": []
   },
   "outputs": [
    {
     "ename": "LinAlgError",
     "evalue": "Singular matrix",
     "output_type": "error",
     "traceback": [
      "\u001b[0;31m---------------------------------------------------------------------------\u001b[0m",
      "\u001b[0;31mLinAlgError\u001b[0m                               Traceback (most recent call last)",
      "Cell \u001b[0;32mIn[25], line 11\u001b[0m\n\u001b[1;32m      8\u001b[0m x_train \u001b[38;5;241m=\u001b[39m np\u001b[38;5;241m.\u001b[39mcolumn_stack([np\u001b[38;5;241m.\u001b[39mones(x_train\u001b[38;5;241m.\u001b[39mshape[\u001b[38;5;241m0\u001b[39m]), x_train])\n\u001b[1;32m      9\u001b[0m x_test \u001b[38;5;241m=\u001b[39m np\u001b[38;5;241m.\u001b[39mcolumn_stack([np\u001b[38;5;241m.\u001b[39mones(x_test\u001b[38;5;241m.\u001b[39mshape[\u001b[38;5;241m0\u001b[39m]), x_test])\n\u001b[0;32m---> 11\u001b[0m beta_mc \u001b[38;5;241m=\u001b[39m fit_model(x_train, y_train)\n\u001b[1;32m     13\u001b[0m y_pred \u001b[38;5;241m=\u001b[39m predict(x_test, beta_mc)\n\u001b[1;32m     15\u001b[0m mse_i \u001b[38;5;241m=\u001b[39m mean_squared_error(y_test, y_pred)\n",
      "Cell \u001b[0;32mIn[22], line 12\u001b[0m, in \u001b[0;36mfit_model\u001b[0;34m(x, y)\u001b[0m\n\u001b[1;32m     11\u001b[0m \u001b[38;5;28;01mdef\u001b[39;00m \u001b[38;5;21mfit_model\u001b[39m(x, y):\n\u001b[0;32m---> 12\u001b[0m     \u001b[38;5;28;01mreturn\u001b[39;00m np\u001b[38;5;241m.\u001b[39mlinalg\u001b[38;5;241m.\u001b[39minv(x\u001b[38;5;241m.\u001b[39mtranspose() \u001b[38;5;241m@\u001b[39m x) \u001b[38;5;241m@\u001b[39m x\u001b[38;5;241m.\u001b[39mtranspose() \u001b[38;5;241m@\u001b[39m y\n",
      "File \u001b[0;32m~/miniconda3/envs/aprendizaje/lib/python3.11/site-packages/numpy/linalg/linalg.py:561\u001b[0m, in \u001b[0;36minv\u001b[0;34m(a)\u001b[0m\n\u001b[1;32m    559\u001b[0m signature \u001b[38;5;241m=\u001b[39m \u001b[38;5;124m'\u001b[39m\u001b[38;5;124mD->D\u001b[39m\u001b[38;5;124m'\u001b[39m \u001b[38;5;28;01mif\u001b[39;00m isComplexType(t) \u001b[38;5;28;01melse\u001b[39;00m \u001b[38;5;124m'\u001b[39m\u001b[38;5;124md->d\u001b[39m\u001b[38;5;124m'\u001b[39m\n\u001b[1;32m    560\u001b[0m extobj \u001b[38;5;241m=\u001b[39m get_linalg_error_extobj(_raise_linalgerror_singular)\n\u001b[0;32m--> 561\u001b[0m ainv \u001b[38;5;241m=\u001b[39m _umath_linalg\u001b[38;5;241m.\u001b[39minv(a, signature\u001b[38;5;241m=\u001b[39msignature, extobj\u001b[38;5;241m=\u001b[39mextobj)\n\u001b[1;32m    562\u001b[0m \u001b[38;5;28;01mreturn\u001b[39;00m wrap(ainv\u001b[38;5;241m.\u001b[39mastype(result_t, copy\u001b[38;5;241m=\u001b[39m\u001b[38;5;28;01mFalse\u001b[39;00m))\n",
      "File \u001b[0;32m~/miniconda3/envs/aprendizaje/lib/python3.11/site-packages/numpy/linalg/linalg.py:112\u001b[0m, in \u001b[0;36m_raise_linalgerror_singular\u001b[0;34m(err, flag)\u001b[0m\n\u001b[1;32m    111\u001b[0m \u001b[38;5;28;01mdef\u001b[39;00m \u001b[38;5;21m_raise_linalgerror_singular\u001b[39m(err, flag):\n\u001b[0;32m--> 112\u001b[0m     \u001b[38;5;28;01mraise\u001b[39;00m LinAlgError(\u001b[38;5;124m\"\u001b[39m\u001b[38;5;124mSingular matrix\u001b[39m\u001b[38;5;124m\"\u001b[39m)\n",
      "\u001b[0;31mLinAlgError\u001b[0m: Singular matrix"
     ]
    }
   ],
   "source": [
    "mse_mc = []\n",
    "mae_mc = []\n",
    "r2_mc = []\n",
    "\n",
    "for i in range(100):\n",
    "    x_train, x_test, y_train, y_test = train_test_split(x, y, test_size=0.2)\n",
    "    \n",
    "    x_train = np.column_stack([np.ones(x_train.shape[0]), x_train])\n",
    "    x_test = np.column_stack([np.ones(x_test.shape[0]), x_test])\n",
    "    \n",
    "    beta_mc = fit_model(x_train, y_train)\n",
    "    \n",
    "    y_pred = predict(x_test, beta_mc)\n",
    "    \n",
    "    mse_i = mean_squared_error(y_test, y_pred)\n",
    "    mae_i = mean_absolute_error(y_test, y_pred)\n",
    "    r2_i = r2_score(y_test, y_pred)\n",
    "    \n",
    "    mse_mc.append(mse_i)\n",
    "    mae_mc.append(mae_i)\n",
    "    r2_mc.append(r2_i)"
   ]
  },
  {
   "cell_type": "markdown",
   "id": "b314f5f8-8265-420c-9f34-ab5365de6a1b",
   "metadata": {},
   "source": []
  }
 ],
 "metadata": {
  "kernelspec": {
   "display_name": "Python 3 (ipykernel)",
   "language": "python",
   "name": "python3"
  },
  "language_info": {
   "codemirror_mode": {
    "name": "ipython",
    "version": 3
   },
   "file_extension": ".py",
   "mimetype": "text/x-python",
   "name": "python",
   "nbconvert_exporter": "python",
   "pygments_lexer": "ipython3",
   "version": "3.11.4"
  }
 },
 "nbformat": 4,
 "nbformat_minor": 5
}
